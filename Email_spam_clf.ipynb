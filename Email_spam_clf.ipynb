{
 "cells": [
  {
   "cell_type": "code",
   "execution_count": 1,
   "id": "085163b6-9da7-490b-9236-cf09d01afc43",
   "metadata": {},
   "outputs": [],
   "source": [
    "import pandas as pd\n",
    "import numpy as np\n",
    "from sklearn.svm import SVC\n",
    "from sklearn.ensemble import VotingClassifier, RandomForestClassifier\n",
    "from sklearn.naive_bayes import GaussianNB\n",
    "from sklearn.model_selection import train_test_split\n",
    "from sklearn.feature_extraction.text import TfidfVectorizer\n",
    "\n"
   ]
  },
  {
   "cell_type": "code",
   "execution_count": 2,
   "id": "bbfabc9a-4f76-4c7e-8de7-1b62730c80e7",
   "metadata": {},
   "outputs": [
    {
     "data": {
      "text/plain": [
       "0       Go until jurong point, crazy.. Available only ...\n",
       "1                           Ok lar... Joking wif u oni...\n",
       "2       Free entry in 2 a wkly comp to win FA Cup fina...\n",
       "3       U dun say so early hor... U c already then say...\n",
       "4       Nah I don't think he goes to usf, he lives aro...\n",
       "                              ...                        \n",
       "5568                 Will ü b going to esplanade fr home?\n",
       "5569    Pity, * was in mood for that. So...any other s...\n",
       "5570    The guy did some bitching but I acted like i'd...\n",
       "5571                           Rofl. Its true to its name\n",
       "5572                                      isActive:false}\n",
       "Name: Message, Length: 5573, dtype: object"
      ]
     },
     "execution_count": 2,
     "metadata": {},
     "output_type": "execute_result"
    }
   ],
   "source": [
    "df = pd.read_csv(r\"C:\\Users\\rajes\\Downloads\\email.csv\")\n",
    "df.head()\n",
    "df['Message']"
   ]
  },
  {
   "cell_type": "code",
   "execution_count": null,
   "id": "d6ddc201-c614-4b02-a13e-7c5fb5211903",
   "metadata": {},
   "outputs": [],
   "source": [
    "X = df['Message']\n",
    "y = df['Category']\n",
    "\n",
    "tfidf = TfidfVectorizer()\n",
    "\n",
    "nb_clf = GaussianNB()\n",
    "\n",
    "svc_clf = SVC(probability = True,random_state= 42)\n",
    "\n",
    "\n",
    "X_tfidf = tfidf.fit_transform(X)\n",
    "\n",
    "voting = VotingClassifier(\n",
    "    estimators = [('svm', svc_clf), ('nb', nb_clf)],\n",
    "    voting = 'soft'\n",
    ")\n",
    "\n",
    "\n",
    "X_train, X_test, y_train, y_test = train_test_split(X_tfidf, y, random_state=42, test_size=0.3)\n",
    "\n",
    "\n",
    "X_train_array = X_train.toarray()\n",
    "X_test_array = X_test.toarray()\n",
    "\n",
    "voting.fit(X_train_array, y_train)\n",
    "\n",
    "y_pred = voting.predict(X_test_array)\n",
    "\n",
    "# print(y_pred)\n",
    "\n",
    "\n",
    "new_message = [\n",
    "    \"Free prizes, gift cards, or coupons that require personal information or payment\",\n",
    "    \"Tech support scams that claim your device is infected or compromised and need immediate action\",\n",
    "    \"Here's the report you requested. Let me know if you need any changes.\"\n",
    "]\n",
    "tdidf_message = tfidf.transform(new_message)\n",
    "predictions = voting.predict(tdidf_message.toarray())\n",
    "print(predictions)"
   ]
  },
  {
   "cell_type": "code",
   "execution_count": null,
   "id": "80f1adef-027a-44ee-87ae-d9c1c63594bc",
   "metadata": {},
   "outputs": [],
   "source": []
  },
  {
   "cell_type": "code",
   "execution_count": null,
   "id": "385f7501-6df1-4e85-9c4b-55e1da182c49",
   "metadata": {},
   "outputs": [],
   "source": []
  },
  {
   "cell_type": "code",
   "execution_count": null,
   "id": "217f1b17-84bc-498e-a8d2-4b0986474448",
   "metadata": {},
   "outputs": [],
   "source": []
  }
 ],
 "metadata": {
  "kernelspec": {
   "display_name": "Python 3 (ipykernel)",
   "language": "python",
   "name": "python3"
  },
  "language_info": {
   "codemirror_mode": {
    "name": "ipython",
    "version": 3
   },
   "file_extension": ".py",
   "mimetype": "text/x-python",
   "name": "python",
   "nbconvert_exporter": "python",
   "pygments_lexer": "ipython3",
   "version": "3.9.13"
  }
 },
 "nbformat": 4,
 "nbformat_minor": 5
}
